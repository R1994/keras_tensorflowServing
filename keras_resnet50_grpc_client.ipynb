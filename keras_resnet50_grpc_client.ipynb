{
 "cells": [
  {
   "cell_type": "code",
   "execution_count": 1,
   "metadata": {},
   "outputs": [
    {
     "name": "stderr",
     "output_type": "stream",
     "text": [
      "Using TensorFlow backend.\n"
     ]
    }
   ],
   "source": [
    "from grpc.beta import implementations\n",
    "import numpy as np\n",
    "import tensorflow as tf\n",
    "\n",
    "from tensorflow_serving.apis import predict_pb2\n",
    "from tensorflow_serving.apis import prediction_service_pb2\n",
    "\n",
    "from keras.preprocessing.image import load_img\n",
    "from keras.preprocessing.image import img_to_array\n",
    "from keras.applications.imagenet_utils import preprocess_input\n",
    "import numpy as np\n",
    "from keras.applications.resnet50 import preprocess_input, decode_predictions\n",
    "import pprint"
   ]
  },
  {
   "cell_type": "code",
   "execution_count": 2,
   "metadata": {},
   "outputs": [],
   "source": [
    "#param : image from local file\n",
    "#return : 1*224*224*3 matrix\n",
    "def load_preprocess_img(img_path, target_size=(224, 224)):\n",
    "    img = load_img(img_path, target_size=target_size)\n",
    "    x = img_to_array(img)\n",
    "    x = np.expand_dims(x, axis=0)\n",
    "    x = preprocess_input(x)\n",
    "    return x"
   ]
  },
  {
   "cell_type": "code",
   "execution_count": 15,
   "metadata": {},
   "outputs": [
    {
     "data": {
      "text/plain": [
       "(1, 224, 224, 3)"
      ]
     },
     "execution_count": 15,
     "metadata": {},
     "output_type": "execute_result"
    }
   ],
   "source": [
    "#examples [cat,dog,flower,sunglass,stanforddog,sunglass]\n",
    "img = load_preprocess_img('flower.jpg')\n",
    "img.shape"
   ]
  },
  {
   "cell_type": "code",
   "execution_count": 16,
   "metadata": {},
   "outputs": [],
   "source": [
    "#para : img matrix\n",
    "#return : json including topk classification\n",
    "def predict_image_classification(img,k):\n",
    "    request = predict_pb2.PredictRequest()\n",
    "    request.model_spec.name = 'resnet50'\n",
    "    request.model_spec.signature_name = 'predict'\n",
    "    request.inputs['images'].CopyFrom(tf.contrib.util.make_tensor_proto(img))\n",
    "\n",
    "\n",
    "    channel = implementations.insecure_channel(\"localhost\", 9000)\n",
    "    stub = prediction_service_pb2.beta_create_PredictionService_stub(channel)\n",
    "\n",
    "    result = stub.Predict(request, 5)  # 10 secs timeout\n",
    "\n",
    "    to_decode = np.expand_dims(result.outputs['scores'].float_val, axis=0)\n",
    "    decoded = decode_predictions(to_decode, k)\n",
    "    return decoded"
   ]
  },
  {
   "cell_type": "code",
   "execution_count": 17,
   "metadata": {},
   "outputs": [
    {
     "name": "stdout",
     "output_type": "stream",
     "text": [
      "[[(u'n11939491', u'daisy', 0.19868582487106323), (u'n02219486', u'ant', 0.16072338819503784), (u'n02264363', u'lacewing', 0.058310471475124359), (u'n02206856', u'bee', 0.049888506531715393), (u'n02280649', u'cabbage_butterfly', 0.027896983548998833)]]\n"
     ]
    }
   ],
   "source": [
    "decoded = predict_image_classification(img,5)\n",
    "print(decoded)"
   ]
  },
  {
   "cell_type": "code",
   "execution_count": 18,
   "metadata": {},
   "outputs": [
    {
     "name": "stdout",
     "output_type": "stream",
     "text": [
      "[[(u'n11939491', u'daisy', 0.19868582487106323),\n",
      "  (u'n02219486', u'ant', 0.16072338819503784),\n",
      "  (u'n02264363', u'lacewing', 0.058310471475124359),\n",
      "  (u'n02206856', u'bee', 0.049888506531715393),\n",
      "  (u'n02280649', u'cabbage_butterfly', 0.027896983548998833)]]\n"
     ]
    }
   ],
   "source": [
    "pprint.pprint(decoded)"
   ]
  },
  {
   "cell_type": "code",
   "execution_count": null,
   "metadata": {},
   "outputs": [],
   "source": []
  }
 ],
 "metadata": {
  "kernelspec": {
   "display_name": "Python 2",
   "language": "python",
   "name": "python2"
  },
  "language_info": {
   "codemirror_mode": {
    "name": "ipython",
    "version": 2
   },
   "file_extension": ".py",
   "mimetype": "text/x-python",
   "name": "python",
   "nbconvert_exporter": "python",
   "pygments_lexer": "ipython2",
   "version": "2.7.12"
  }
 },
 "nbformat": 4,
 "nbformat_minor": 2
}
